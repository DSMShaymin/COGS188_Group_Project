{
 "cells": [
  {
   "attachments": {},
   "cell_type": "markdown",
   "metadata": {},
   "source": [
    "# COGS 188 - Special Topics Proposal"
   ]
  },
  {
   "attachments": {},
   "cell_type": "markdown",
   "metadata": {},
   "source": [
    "# Project Description\n",
    "\n",
    "\n",
    "- What is the topic? How will it be covered?  Make an outline.\n",
    "  -  What (sub)elements of the topic will you be covering?  \n",
    "  -  Highlight key points/takeaways for each (sub)element you want to cover\n",
    "- What is your pedagocial approach?\n",
    "   -  What readings will students be assigned?\n",
    "   -  Will slides/lecture be used?  \n",
    "      -  Covering which of the elements in the outline? \n",
    "      -  Delivered by whom?\n",
    "   -  What active learning methods be used?\n",
    "      -  Discussions? \n",
    "         -  On which elements? \n",
    "         -  For how long maximum? \n",
    "         -  What framework will you use to kick off discussion? \n",
    "      -  In-class exercises? \n",
    "         -  On which elements? \n",
    "         -  For how long maximum? \n",
    "         -  Describe the exercise briefly\n",
    "\n",
    "  \n",
    "\n",
    "It is possible to make a proposal without knowing all of these things in fine detail, but the closer you are to having an actual set of class materials the better.\n"
   ]
  },
  {
   "cell_type": "markdown",
   "metadata": {},
   "source": [
    "# Names\n",
    "\n",
    "Hopefully your team is at least this good. Obviously you should replace these with your names.\n",
    "\n",
    "- Dean Solano\n",
    "- Sailor Alfonzo\n",
    "- Anthony Gonzalez\n"
   ]
  },
  {
   "attachments": {},
   "cell_type": "markdown",
   "metadata": {},
   "source": [
    "# Topic and outline\n",
    "\n",
    "### Main topic\n",
    "\n",
    "A generative adversarial network (GAN) is a class of machine learning frameworks and a prominent framework for approaching generative artificial intelligence.  In a GAN, two neural networks contest with each other in the form of a zero-sum game, where one agent's gain is another agent's loss.\n",
    "\n",
    "Given a training set, this technique learns to generate new data with the same statistics as the training set. For example, a GAN trained on photographs can generate new photographs that look at least superficially authentic to human observers, having many realistic characteristics.\n",
    "\n",
    "The core idea of a GAN is based on the \"indirect\" training through the discriminator, another neural network that can tell how \"realistic\" the input seems, which itself is also being updated dynamically.[5] This means that the generator is not trained to minimize the distance to a specific image, but rather to fool the discriminator. This enables the model to learn in an unsupervised manner.\n",
    "\n",
    "### Learning goal for students \n",
    "- Students are going to learn what Generative Adverrsial Networks are and its history.\n",
    "- Students will be able to have some grasp of how GANs and related methods work in generating artificial images.\n",
    "- Students will learn the ethical concerns and applications of generative AI, such as DALL-E and deepfakes.\n",
    "\n",
    "\n",
    "### Outline of the topic\n",
    "  - Background of how we got to GAN\n",
    "    - __How do GANs work__ \n",
    "    - What models are used\n",
    "    - Where are GANs seen in the real world\n",
    "  - Differences between different GAN models\n",
    "    - __Key differences between models__ \n",
    "    - Which process are used in each model\n",
    "    - How do these different processes work\n",
    "  - Ethics of GAN\n",
    "    - __What the ethical dillemmas are using GAN__\n",
    "    - How does the training work\n",
    "    - Examples of legislaturet"
   ]
  },
  {
   "attachments": {},
   "cell_type": "markdown",
   "metadata": {},
   "source": [
    "# Pedagogy\n",
    "\n",
    "\n",
    "### Readings\n",
    "Citation for one or more readings students will need to consume before class. \n",
    "\n",
    "Each reading should be accompanied by 1 to 3 short paragraphs describing what the reading covers that you want students to know\n",
    "\n",
    "https://dl.acm.org/doi/pdf/10.1145/3446374\n",
    "\n",
    "https://ieeexplore.ieee.org/stamp/stamp.jsp?arnumber=8667290\n",
    "\n",
    "### Background literature\n",
    "\n",
    "\n",
    "GANs introduced a novel adversarial training framework commonly used in data generation, such as images. A generator network G maps random noise to synthetic data while a discriminator D learns to distinguish real from fake samples. The networks optimize a minimax objective, with G minimizing and D maximizing the binary cross entropy loss. (Saxena & Cao, 2021). The architecture typically employs transposed convolutions in the generator for upsampling and standard convolutions in the discriminator, with DCGAN (Radford et al., 2015) being the most prominent examples of best-performing GANs for image generation.\n",
    "\n",
    "The field then evolved toward diffusion models (Sohl-Dickstein et al., 2015; Ho et al., 2020), which learn to denoise images through a series of steps rather than using adversarial training. These models start with Gaussian noise and iteratively refine it, trained on a simpler objective of predicting added noise. The integration of transformer architectures and cross-attention mechanisms enabled strong text conditioning, as seen in DALL-E 2 (Ramesh et al., 2022). Stable Diffusion (Rombach et al., 2022) improved efficiency by operating in a compressed latent space using a variational autoencoder, while maintaining generation quality.\n",
    "Modern architectures focus on inference speed and controllability. Techniques like knowledge distillation reduce the required sampling steps (Salimans & Ho, 2022), while specialized architectures like ControlNet (Zhang et al., 2023) enable fine-grained control over the generation process. The fundamental U-Net backbone remains consistent across most implementations, though with various refinements to attention mechanisms and conditioning approaches (Saharia et al., 2022)\n",
    "\n",
    "**Use inline citation** to specify which references support which statements.  You can do that through HTML footnotes (demonstrated here). I used to reccommend Markdown footnotes (google is your friend) because they are simpler but recently I have had some problems with them working for me whereas HTML ones always work so far. So use the method that works for you, but do use inline citations.\n",
    "\n",
    "Here is an example of inline citation. After government genocide in the 20th century, real birds were replaced with surveillance drones designed to look just like birds<a name=\"lorenz\"></a>[<sup>[1]</sup>](#lorenznote). \n",
    "\n",
    "\n",
    "### Lecture description\n",
    "\n",
    "- History of GANs, some pseudocode or easily-ran demonstration on using some GANs through jupyter notebook\n",
    " A slide running order is ideal here, but probably unrealistic.  Include information about how you will apportion coverage between group members.\n",
    "\n",
    "### Active learning\n",
    "- What is AI and what is real art game\n",
    "- Who owns what art game\n",
    "\n"
   ]
  },
  {
   "cell_type": "markdown",
   "metadata": {},
   "source": []
  },
  {
   "attachments": {},
   "cell_type": "markdown",
   "metadata": {},
   "source": [
    "# Dates\n",
    "- Monday, March 3rd (Week 9, Highly preferred date)\n",
    "- Wednesday, March 5th (Week 9)\n",
    "- Friday, March 7th (Week 9)"
   ]
  },
  {
   "cell_type": "markdown",
   "metadata": {},
   "source": [
    "# Team Expectations "
   ]
  },
  {
   "cell_type": "markdown",
   "metadata": {},
   "source": [
    "Put things here that cement how you will interact/communicate as a team, how you will handle conflict and difficulty, how you will handle making decisions and setting goals/schedule, how much work you expect from each other, how you will handle deadlines, etc...\n",
    "* *We all agree to respond to any forms of communication regarding the special topics presentation within 24 hours.*\n",
    "* *If there is conflict, we agree to respectfully listen to all opinions and make a decision that has the best interest of the team*\n",
    "* *Deadlines and goals set by the proposal timelime should be met on time, unless there are extentuating circumstances previously communicated*\n",
    "* *Divison of presentation should be even and highlight equal contribution of all group members*\n",
    "* *Any major changes to timeline deadlines or special topic content requires agreement through conversation from group members*"
   ]
  },
  {
   "cell_type": "markdown",
   "metadata": {},
   "source": [
    "# Project Timeline Proposal"
   ]
  },
  {
   "cell_type": "markdown",
   "metadata": {},
   "source": [
    "Replace this with something meaningful that is appropriate for your needs. It doesn't have to be something that fits this format.  It doesn't have to be set in stone... \"no battle plan survives contact with the enemy\". But you need a battle plan nonetheless, and you need to keep it updated so you understand what you are trying to accomplish, who's responsible for what, and what the expected due dates are for each item.\n",
    "\n",
    "| Meeting Date  | Meeting Time| Completed Before Meeting  | Discuss at Meeting |\n",
    "|---|---|---|---|\n",
    "| 2/14  |  2 PM |  Figure out potential topics and interests (all)  | Set up communication channels; figure out final topic and interest from group members, fill out project prosoal for presentation| \n",
    "| 2/17 |  4 PM |  Do background research on topic (Dean) | Discuss ideal dataset(s) and ethics; draft project proposal | \n",
    "| 2/19 | 4 PM  | Edit, finalize, and submit proposal; Search for datasets ()  | Discuss Wrangling and possible analytical approaches; Assign group members to lead each specific part   |\n",
    "| 2/24  | 4 PM  | Import & Wrangle Data ,do some EDA (Maradonna) | Review/Edit wrangling/EDA; Discuss Analysis Plan   |\n",
    "| 2/26  | 4 PM  | Finalize wrangling/EDA; Begin programming for project (Cruyff) | Discuss/edit project code; Complete project |\n",
    "| 2/28  | 4 PM  | Complete analysis; Draft results/conclusion/discussion (Carlos)| Discuss/edit full project |\n",
    "| 3/2  | Before 11:59 PM  | NA | Meet and rehearse final presentation, go over last minute changes if needed  |"
   ]
  },
  {
   "attachments": {},
   "cell_type": "markdown",
   "metadata": {},
   "source": [
    "# Refeereences\n",
    "Saxena, D., & Cao, J. (2021). Generative adversarial networks (GANs) challenges, solutions, and future directions. ACM Computing Surveys (CSUR), 54(3), 1-42.\n",
    "\n",
    "\n"
   ]
  },
  {
   "cell_type": "markdown",
   "metadata": {},
   "source": []
  }
 ],
 "metadata": {
  "kernelspec": {
   "display_name": "Python 3",
   "language": "python",
   "name": "python3"
  },
  "language_info": {
   "codemirror_mode": {
    "name": "ipython",
    "version": 3
   },
   "file_extension": ".py",
   "mimetype": "text/x-python",
   "name": "python",
   "nbconvert_exporter": "python",
   "pygments_lexer": "ipython3",
   "version": "3.7.11 (default, Jul 27 2021, 07:03:16) \n[Clang 10.0.0 ]"
  },
  "vscode": {
   "interpreter": {
    "hash": "40d3a090f54c6569ab1632332b64b2c03c39dcf918b08424e98f38b5ae0af88f"
   }
  }
 },
 "nbformat": 4,
 "nbformat_minor": 2
}
