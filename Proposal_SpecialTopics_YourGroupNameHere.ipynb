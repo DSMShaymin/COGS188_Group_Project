{
 "cells": [
  {
   "attachments": {},
   "cell_type": "markdown",
   "metadata": {},
   "source": [
    "# COGS 188 - Special Topics Proposal"
   ]
  },
  {
   "attachments": {},
   "cell_type": "markdown",
   "metadata": {},
   "source": [
    "# Project Description\n",
    "\n",
    "\n",
    "- What is the topic? How will it be covered?  Make an outline.\n",
    "  -  What (sub)elements of the topic will you be covering?  \n",
    "  -  Highlight key points/takeaways for each (sub)element you want to cover\n",
    "- What is your pedagocial approach?\n",
    "   -  What readings will students be assigned?\n",
    "   -  Will slides/lecture be used?  \n",
    "      -  Covering which of the elements in the outline? \n",
    "      -  Delivered by whom?\n",
    "   -  What active learning methods be used?\n",
    "      -  Discussions? \n",
    "         -  On which elements? \n",
    "         -  For how long maximum? \n",
    "         -  What framework will you use to kick off discussion? \n",
    "      -  In-class exercises? \n",
    "         -  On which elements? \n",
    "         -  For how long maximum? \n",
    "         -  Describe the exercise briefly\n",
    "\n",
    "  \n",
    "\n",
    "It is possible to make a proposal without knowing all of these things in fine detail, but the closer you are to having an actual set of class materials the better.\n"
   ]
  },
  {
   "cell_type": "markdown",
   "metadata": {},
   "source": [
    "# Names\n",
    "\n",
    "Hopefully your team is at least this good. Obviously you should replace these with your names.\n",
    "\n",
    "- Dean Solano\n",
    "- Sailor Alfonzo\n",
    "- Anthony Gonzalez\n"
   ]
  },
  {
   "attachments": {},
   "cell_type": "markdown",
   "metadata": {},
   "source": [
    "# Topic and outline\n",
    "\n",
    "### Main topic\n",
    "\n",
    "A generative adversarial network (GAN) is a class of machine learning frameworks and a prominent framework for approaching generative artificial intelligence.  In a GAN, two neural networks contest with each other in the form of a zero-sum game, where one agent's gain is another agent's loss.\n",
    "\n",
    "Given a training set, this technique learns to generate new data with the same statistics as the training set. A typical use of a GAN is on images, where they are both used for training and generation to create photorealistic images that can trick humans into believing are real.\n",
    "\n",
    "\n",
    "### Learning goal for students \n",
    "- Students are going to learn what Generative Adversarial Networks are and its history.\n",
    "- Students will be able to have some grasp of how GANs and related methods work in generating artificial images.\n",
    "- Students will learn the ethical concerns and applications of generative AI, such as DALL-E and deepfakes.\n",
    "\n",
    "\n",
    "### Outline of the topic\n",
    "  - Background of how we got to GAN\n",
    "    - __How do GANs work__ \n",
    "    - What models are used\n",
    "    - Where are GANs seen in the real world\n",
    "  - Differences between different GAN models\n",
    "    - __Key differences between models__ \n",
    "    - Which process are used in each model\n",
    "    - How do these different processes work\n",
    "  - Ethics of GAN\n",
    "    - __What the ethical dillemmas are using GAN__\n",
    "    - How does the training work\n",
    "    - Examples of legislaturet"
   ]
  },
  {
   "attachments": {},
   "cell_type": "markdown",
   "metadata": {},
   "source": [
    "# Pedagogy\n",
    "\n",
    "\n",
    "### Readings\n",
    "\n",
    "\n",
    "https://dl.acm.org/doi/pdf/10.1145/3446374\n",
    "- General description of GANs and how they work, as well as some history of the technology and some math.\n",
    "\n",
    "https://ieeexplore.ieee.org/stamp/stamp.jsp?arnumber=8667290\n",
    "\n",
    "Radford, A. (2015). Unsupervised representation learning with deep convolutional generative adversarial networks. arXiv preprint arXiv:1511.06434.\n",
    "- Literature on DCGANs, which are one of the most effective and widely used GANs before other models have been developed. This is an example of unsupervised machine learning with an ability to generate images.\n",
    "### Background literature\n",
    "\n",
    "\n",
    "GANs introduced a novel adversarial training framework commonly used in data generation, such as images. A generator network G maps random noise to synthetic data while a discriminator D learns to distinguish real from fake samples. The networks optimize a minimax objective, with G minimizing and D maximizing the binary cross entropy loss. (Saxena & Cao, 2021). The architecture typically employs transposed convolutions in the generator for upsampling and standard convolutions in the discriminator, with DCGAN (Radford et al., 2015) being the most prominent examples of best-performing GANs for image generation.\n",
    "\n",
    "\n",
    "\n",
    "\n",
    "### Lecture description\n",
    "\n",
    "- Our lecture's goal is to serve as an introduction to the topics of GANs. \n",
    "- Slide running order:\n",
    "    - Importance of GANs (Sailor)\n",
    "    - History of GANs (basic background, how GANS were developed) (Anthony)\n",
    "    - Notable examples + applications of GANs, emphasis on art (Dean)\n",
    "    - Distinction between CNNs and GANs (Dean)\n",
    "    - Different types of GANs (Dean)\n",
    "    - Active Learning Activity #1 (Dean)\n",
    "    - Demonstration of GANs through pseudocode or using jupyter notebook video, step-by-step breakdown (Anthony)\n",
    "    - Challenges and Ethical Limitations (Sailor)\n",
    "    - Active Learning Activity #2 (Anthony)\n",
    "    - Current legal issues regarding GANs (Sailor)\n",
    "    - Future of GANs (Sailor)\n",
    "- Coverage between group members is split evenly into 1/3 segments based on estimated amount of content per slide. Names are fairly assigned next to slides.  \n",
    "\n",
    "### Active learning\n",
    "- \"What is AI and What Is Real Art?\" Game (Active Learning Activity #1 )\n",
    "    - We will have a slides with similar artworks (Similar topics) one of the art will be an AI generated image and one will be a human generated image. We will then ask the class to determine which one is AI generated and show some possible give aways for why it is GAN generated. With this we will also show differences between different models to see if certain ones are easier to detect, and we will also have an AI vs AI portion to see if our classmates can determine which AI made a set of images. i.e. have 2 images from Dall-e, and 2 from midjourney. This should take about 5 minutes max to just show how developed GAN are. \n",
    "- \"Who Owns What Art?\" Game (Active Learning Activity #2)\n",
    "    - To go over the topic of ethics in GAN we will go through some situations where we will see who owns the art from generated images and from there we will go through some actual legislation that is happening to combat issues. To keep engagement we will have our classmates to determine who will own artwork and put them in certain situations which may have differing precedence. This activity shouldn't last longer than 5 minutes.\n",
    "\n"
   ]
  },
  {
   "attachments": {},
   "cell_type": "markdown",
   "metadata": {},
   "source": [
    "# Dates\n",
    "- Wednesday, February 26th (Week 8, Highly preferred date)\n",
    "- Friday, February 28th (Week 8)\n",
    "- Monday, March 3rd (Week 9)"
   ]
  },
  {
   "cell_type": "markdown",
   "metadata": {},
   "source": [
    "# Team Expectations "
   ]
  },
  {
   "cell_type": "markdown",
   "metadata": {},
   "source": [
    "Put things here that cement how you will interact/communicate as a team, how you will handle conflict and difficulty, how you will handle making decisions and setting goals/schedule, how much work you expect from each other, how you will handle deadlines, etc...\n",
    "* *We all agree to respond to any forms of communication regarding the special topics presentation within 24 hours.*\n",
    "* *If there is conflict, we agree to respectfully listen to all opinions and make a decision that has the best interest of the team*\n",
    "* *Deadlines and goals set by the proposal timelime should be met on time, unless there are extentuating circumstances previously communicated*\n",
    "* *Divison of presentation should be even and highlight equal contribution of all group members*\n",
    "* *Any major changes to timeline deadlines or special topic content requires agreement through conversation from group members*"
   ]
  },
  {
   "cell_type": "markdown",
   "metadata": {},
   "source": [
    "# Project Timeline Proposal"
   ]
  },
  {
   "cell_type": "markdown",
   "metadata": {},
   "source": [
    "Replace this with something meaningful that is appropriate for your needs. It doesn't have to be something that fits this format.  It doesn't have to be set in stone... \"no battle plan survives contact with the enemy\". But you need a battle plan nonetheless, and you need to keep it updated so you understand what you are trying to accomplish, who's responsible for what, and what the expected due dates are for each item.\n",
    "\n",
    "| Meeting Date  | Meeting Time| Completed Before Meeting  | Discuss at Meeting |\n",
    "|---|---|---|---|\n",
    "| 2/14  |  2 PM |  Figure out potential topics and interests (all)  | Set up communication channels; figure out final topic and interest from group members, fill out project prosoal for presentation| \n",
    "| 2/17 |  4 PM |  Do background research on topic (Dean), begin to figure out segmented GAN content for slides (Anthony), start gathering information on ethics and legality behind GAN (Sailor) | Figure out plan for activities sourcing AI art content; clean game format for finalization during next meeting| \n",
    "| 2/19 | 4 PM  | Piece together each sectioned part of presentation with visualizations, work on dividing each member's content into appropriate sections (All)  | Finalize all information and content used for presentation; ensure references and citations are in order|\n",
    "| 2/24  | 4 PM  | Review all member's content and note any changes needed to be made (All) | Review and make final edits as a group towards slide content; figure out aesthetic layout for slides and when to introduce game activity for class   |\n",
    "| 2/26  | 4 PM  | Complete slide layout and transistions for each respective section (all); test run game activity with non-class related peers (all)| Discuss any feedback about class activity from trial runs ; begin mock timing presentation and figuring out flow |\n",
    "| 2/28  | 4 PM  | Test run presentation individually with small audiences (all); make content adjustments when needed for feedback| Last minute changes or additions to presentation if needed |\n",
    "| 3/2  | Before 11:59 PM  | Individually practicing own segemented parts | Meet and rehearse final presentation, go over last minute changes if needed  |"
   ]
  },
  {
   "attachments": {},
   "cell_type": "markdown",
   "metadata": {},
   "source": [
    "# Refereences\n",
    "\n",
    "Radford, A. (2015). Unsupervised representation learning with deep convolutional generative adversarial networks. arXiv preprint arXiv:1511.06434.\n",
    "\n",
    "Saxena, D., & Cao, J. (2021). Generative adversarial networks (GANs) challenges, solutions, and future directions. ACM Computing Surveys (CSUR), 54(3), 1-42.\n",
    "\n",
    "\n"
   ]
  },
  {
   "cell_type": "markdown",
   "metadata": {},
   "source": []
  },
  {
   "cell_type": "markdown",
   "metadata": {},
   "source": []
  }
 ],
 "metadata": {
  "kernelspec": {
   "display_name": "Python 3",
   "language": "python",
   "name": "python3"
  },
  "language_info": {
   "codemirror_mode": {
    "name": "ipython",
    "version": 3
   },
   "file_extension": ".py",
   "mimetype": "text/x-python",
   "name": "python",
   "nbconvert_exporter": "python",
   "pygments_lexer": "ipython3",
   "version": "3.7.11 (default, Jul 27 2021, 07:03:16) \n[Clang 10.0.0 ]"
  },
  "vscode": {
   "interpreter": {
    "hash": "40d3a090f54c6569ab1632332b64b2c03c39dcf918b08424e98f38b5ae0af88f"
   }
  }
 },
 "nbformat": 4,
 "nbformat_minor": 2
}
